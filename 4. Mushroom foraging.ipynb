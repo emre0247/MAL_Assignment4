{
 "cells": [
  {
   "cell_type": "markdown",
   "id": "0bafe240-5583-43b9-86b0-4366a08c288c",
   "metadata": {},
   "source": [
    "# 4. Mushroom foraging"
   ]
  },
  {
   "cell_type": "markdown",
   "id": "31181875-5c48-4e3b-9ba3-a0febdb9ebb2",
   "metadata": {},
   "source": [
    "The [mushroom dataset](https://www.kaggle.com/datasets/dhinaharp/mushroom-dataset) contains data about approximately 60000 mushrooms, and your task is to classify them as either edible or poisonous. You can read about the features [here](https://www.kaggle.com/datasets/uciml/mushroom-classification) and import the data using:"
   ]
  },
  {
   "cell_type": "code",
   "execution_count": null,
   "id": "41995351-199c-4a0e-81eb-c882e435dcbd",
   "metadata": {},
   "outputs": [],
   "source": [
    "import pandas as pd\n",
    "pd.set_option('display.max_columns', 1000)\n",
    "df = pd.read_csv('secondary_data.csv', delimiter = ';')\n",
    "df.head()"
   ]
  },
  {
   "cell_type": "markdown",
   "id": "8ab16bc8-44af-4f86-97f8-ae339dbbbd67",
   "metadata": {},
   "source": [
    "It's up to you how you approach this data, but at a minimum, your analysis should include:\n",
    "\n",
    "* Informed **data preparation**.\n",
    "* 2 different classification models, one of which must be **logistic regression**.\n",
    "* A discussion of which **performance metric** is most relevant for the evaluation of your models.\n",
    "* 2 different **validation methodologies** used to tune hyperparameters.\n",
    "* **Confusion matrices** for your models, and associated comments."
   ]
  },
  {
   "cell_type": "code",
   "execution_count": null,
   "id": "db91394d-9946-4f1c-9cd3-79e03bd4cd2a",
   "metadata": {},
   "outputs": [],
   "source": []
  }
 ],
 "metadata": {
  "kernelspec": {
   "display_name": "Python 3 (ipykernel)",
   "language": "python",
   "name": "python3"
  },
  "language_info": {
   "codemirror_mode": {
    "name": "ipython",
    "version": 3
   },
   "file_extension": ".py",
   "mimetype": "text/x-python",
   "name": "python",
   "nbconvert_exporter": "python",
   "pygments_lexer": "ipython3",
   "version": "3.12.7"
  }
 },
 "nbformat": 4,
 "nbformat_minor": 5
}
